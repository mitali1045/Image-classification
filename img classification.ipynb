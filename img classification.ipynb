{
 "cells": [
  {
   "cell_type": "code",
   "execution_count": 17,
   "id": "76e1dd1e",
   "metadata": {},
   "outputs": [
    {
     "name": "stdout",
     "output_type": "stream",
     "text": [
      "Collecting opencv-python\n",
      "  Downloading opencv_python-4.5.4.60-cp39-cp39-macosx_10_15_x86_64.whl (45.9 MB)\n",
      "\u001b[K     |████████████████████████████████| 45.9 MB 593 kB/s eta 0:00:01\n",
      "\u001b[?25hRequirement already satisfied: numpy>=1.19.3 in /Users/mitali/opt/anaconda3/lib/python3.9/site-packages (from opencv-python) (1.20.3)\n",
      "Installing collected packages: opencv-python\n",
      "Successfully installed opencv-python-4.5.4.60\n"
     ]
    }
   ],
   "source": [
    "# !pip install tensorflow\n",
    "!pip install opencv-python"
   ]
  },
  {
   "cell_type": "code",
   "execution_count": 18,
   "id": "ee6b0144",
   "metadata": {},
   "outputs": [],
   "source": [
    "#import tensorflow as tf\n",
    "import numpy as np\n",
    "import matplotlib.pyplot as plt\n",
    "#import nn_utils\n",
    "from pathlib import Path\n",
    "import pandas as pd\n",
    "import cv2"
   ]
  },
  {
   "cell_type": "code",
   "execution_count": 19,
   "id": "606f1615",
   "metadata": {},
   "outputs": [],
   "source": [
    "label_dir = {1:'colon',2:'endometrium_1',3:'endometrium_2',4:'kidney',5:'liver',6:'lung',8:'lymph_node',9:'pancreas',10:'skin_1',11:'skin_2',12:'small_intestine',13:'spleen'}"
   ]
  },
  {
   "cell_type": "code",
   "execution_count": 20,
   "id": "bd9daf7b",
   "metadata": {},
   "outputs": [],
   "source": [
    "images_dir = Path('/Users/mitali/Desktop/Application docs/RA/Data /Train/train data/colon')\n",
    "images = images_dir.glob(\"*.tif\")"
   ]
  },
  {
   "cell_type": "code",
   "execution_count": 21,
   "id": "e4b05681",
   "metadata": {},
   "outputs": [],
   "source": [
    "train_data = []\n",
    "for i in images:\n",
    "    train_data.append((i,1))"
   ]
  },
  {
   "cell_type": "code",
   "execution_count": 22,
   "id": "8890e432",
   "metadata": {},
   "outputs": [
    {
     "data": {
      "text/plain": [
       "75"
      ]
     },
     "execution_count": 22,
     "metadata": {},
     "output_type": "execute_result"
    }
   ],
   "source": [
    "len(train_data)"
   ]
  },
  {
   "cell_type": "code",
   "execution_count": 42,
   "id": "bfc6326c",
   "metadata": {},
   "outputs": [],
   "source": [
    "train_split_criteria = len(train_data)*0.8\n",
    "\n",
    "#x_train = train_data['image'][:split_criteria]\n",
    "#y_train = train_data['label'][:split_criteria]\n",
    "#x_test = train_data['image'][split_criteria:]\n",
    "#y_test = test_data['label'][split_critera:]"
   ]
  },
  {
   "cell_type": "code",
   "execution_count": 43,
   "id": "ca9e884e",
   "metadata": {},
   "outputs": [
    {
     "ename": "NameError",
     "evalue": "name 'columns' is not defined",
     "output_type": "error",
     "traceback": [
      "\u001b[0;31m---------------------------------------------------------------------------\u001b[0m",
      "\u001b[0;31mNameError\u001b[0m                                 Traceback (most recent call last)",
      "\u001b[0;32m/var/folders/cq/k2m2yz_x64j1x_3vtx4qsddh0000gn/T/ipykernel_9922/585669117.py\u001b[0m in \u001b[0;36m<module>\u001b[0;34m\u001b[0m\n\u001b[0;32m----> 1\u001b[0;31m \u001b[0mtrain_data\u001b[0m \u001b[0;34m=\u001b[0m \u001b[0mpd\u001b[0m\u001b[0;34m.\u001b[0m\u001b[0mDataFrame\u001b[0m\u001b[0;34m(\u001b[0m\u001b[0mtrain_data\u001b[0m\u001b[0;34m,\u001b[0m\u001b[0mcolumns\u001b[0m\u001b[0;34m[\u001b[0m\u001b[0;34m'image'\u001b[0m\u001b[0;34m,\u001b[0m\u001b[0;34m'label'\u001b[0m\u001b[0;34m]\u001b[0m\u001b[0;34m,\u001b[0m\u001b[0mindex\u001b[0m\u001b[0;34m=\u001b[0m\u001b[0;32mNone\u001b[0m\u001b[0;34m)\u001b[0m\u001b[0;34m\u001b[0m\u001b[0;34m\u001b[0m\u001b[0m\n\u001b[0m\u001b[1;32m      2\u001b[0m \u001b[0mtrain_data\u001b[0m\u001b[0;34m\u001b[0m\u001b[0;34m\u001b[0m\u001b[0m\n",
      "\u001b[0;31mNameError\u001b[0m: name 'columns' is not defined"
     ]
    }
   ],
   "source": [
    "train_data = pd.DataFrame(train_data,columns['image','label'],index=None)\n",
    "train_data"
   ]
  },
  {
   "cell_type": "code",
   "execution_count": 27,
   "id": "0884fc34",
   "metadata": {},
   "outputs": [],
   "source": [
    "train_data['image'] = train_data['image'].apply(lambda x : cv2.imread(str(x)))"
   ]
  },
  {
   "cell_type": "code",
   "execution_count": 33,
   "id": "7140a61d",
   "metadata": {},
   "outputs": [
    {
     "data": {
      "text/plain": [
       "3000"
      ]
     },
     "execution_count": 33,
     "metadata": {},
     "output_type": "execute_result"
    }
   ],
   "source": [
    "len(train_data['image'][0])"
   ]
  },
  {
   "cell_type": "markdown",
   "id": "e1a049c1",
   "metadata": {},
   "source": [
    "# Resizing images for keeping the dimension uniform"
   ]
  },
  {
   "cell_type": "code",
   "execution_count": 38,
   "id": "6736fe7d",
   "metadata": {},
   "outputs": [],
   "source": [
    "train_data['image'] = train_data['image'].apply(lambda x : cv2.resize(x,(50,60)))\n",
    "test_data['image'] = test_data['image'].apply(lambda x : cv2.resize(x,(50,60)))']"
   ]
  },
  {
   "cell_type": "markdown",
   "id": "0dd91bf4",
   "metadata": {},
   "source": [
    "# Data Augmentation to create new dara with different orientations"
   ]
  },
  {
   "cell_type": "code",
   "execution_count": 39,
   "id": "8cc80ca4",
   "metadata": {},
   "outputs": [],
   "source": [
    "train_data['image'] = train_data['image'].apply(lambda x : cv2.cvtColor(x, cv2.COLOR_BGR2GRAY))"
   ]
  },
  {
   "cell_type": "markdown",
   "id": "db50cdf7",
   "metadata": {},
   "source": [
    "# Training a CNN\n"
   ]
  },
  {
   "cell_type": "code",
   "execution_count": null,
   "id": "13946c7e",
   "metadata": {},
   "outputs": [],
   "source": [
    "model = Sequential()\n",
    "model.add(Conv2D(16,(5,5),padding='valid',input_shape = X_train.shape[1:]))\n",
    "model.add(Activation('relu'))\n",
    "model.add(MaxPooling2D(pool_size=(2,2),strides=2,padding = 'valid'))\n",
    "model.add(Dropout(0.4))\n",
    "model.add(Conv2D(32,(5,5),padding='valid'))\n",
    "model.add(Activation('relu'))\n",
    "model.add(MaxPooling2D(pool_size=(2,2),strides=2,padding = 'valid'))\n",
    "model.add(Dropout(0.6))\n",
    "model.add(Conv2D(64,(5,5),padding='valid'))\n",
    "model.add(Activation('relu'))\n",
    "model.add(Dropout(0.8))\n",
    "model.add(Flatten())\n",
    "model.add(Dense(#number of classes))\n",
    "model.add(Activation('softmax'))\n",
    "\n",
    "batch_size = 100\n",
    "epochs= 100\n",
    "\n",
    "optimizer = keras.optimizers.rmsprop(lr = 0.0001, decay = 1e-6)\n",
    "\n",
    "model.compile(loss = 'categorical_crossentropy',optimizer = optimizer, metrics = ['accuracy',keras_metrics.precision(), keras_metrics.recall()])\n",
    "\n",
    "model.fit(X_train,y_train,steps_per_epoch = int(len(X_train)/batch_size),epochs=epochs)\n",
    "\n"
   ]
  },
  {
   "cell_type": "markdown",
   "id": "cff39f9b",
   "metadata": {},
   "source": [
    "# Pre-trained model"
   ]
  },
  {
   "cell_type": "code",
   "execution_count": null,
   "id": "e00bc2c6",
   "metadata": {},
   "outputs": [],
   "source": [
    "#Load the InceptionResNetV2 architecture with imagenet weights as base\n",
    "base_model = tf.keras.applications.InceptionResNetV2(\n",
    "                     include_top=False,\n",
    "                     weights='imagenet',\n",
    "                     input_shape=(50,60,3)\n",
    "                     )"
   ]
  },
  {
   "cell_type": "code",
   "execution_count": null,
   "id": "080ec815",
   "metadata": {},
   "outputs": [],
   "source": [
    "base_model.trainable=False\n",
    "# For freezing the layer we make use of layer.trainable = False\n",
    "# means that its internal state will not change during training.\n",
    "# model's trainable weights will not be updated during fit(),\n",
    "# and also its state updates will not run.\n",
    "  \n",
    "model = tf.keras.Sequential([ \n",
    "        base_model,   \n",
    "        tf.keras.layers.BatchNormalization(renorm=True),\n",
    "        tf.keras.layers.GlobalAveragePooling2D(),\n",
    "        tf.keras.layers.Dense(512, activation='relu'),\n",
    "        tf.keras.layers.Dense(256, activation='relu'),\n",
    "        tf.keras.layers.Dropout(0.5),\n",
    "        tf.keras.layers.Dense(128, activation='relu'),\n",
    "        tf.keras.layers.Dense(120, activation='softmax')\n",
    "    ])\n",
    "\n",
    "model.compile(optimizer='Adam',loss='categorical_crossentropy',metrics=['accuracy'])\n",
    "model.fit(X_train,y_train)\n"
   ]
  }
 ],
 "metadata": {
  "kernelspec": {
   "display_name": "Python 3 (ipykernel)",
   "language": "python",
   "name": "python3"
  },
  "language_info": {
   "codemirror_mode": {
    "name": "ipython",
    "version": 3
   },
   "file_extension": ".py",
   "mimetype": "text/x-python",
   "name": "python",
   "nbconvert_exporter": "python",
   "pygments_lexer": "ipython3",
   "version": "3.9.7"
  }
 },
 "nbformat": 4,
 "nbformat_minor": 5
}
