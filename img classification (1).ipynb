{
 "cells": [
  {
   "cell_type": "code",
   "execution_count": 129,
   "metadata": {},
   "outputs": [
    {
     "name": "stdout",
     "output_type": "stream",
     "text": [
      "Requirement already satisfied: keras in d:\\anaconda\\lib\\site-packages (2.7.0)\n"
     ]
    }
   ],
   "source": [
    "# !pip install tensorflow\n",
    "#!pip install opencv-python\n",
    "!pip install keras\n"
   ]
  },
  {
   "cell_type": "code",
   "execution_count": 146,
   "metadata": {},
   "outputs": [],
   "source": [
    "import tensorflow as tf\n",
    "from tensorflow import keras\n"
   ]
  },
  {
   "cell_type": "code",
   "execution_count": 149,
   "metadata": {},
   "outputs": [],
   "source": [
    "\n",
    "import numpy as np\n",
    "import matplotlib.pyplot as plt\n",
    "#import nn_utils\n",
    "from pathlib import Path\n",
    "import pandas as pd\n",
    "import cv2\n",
    "from glob import glob\n",
    "import os\n",
    "from tensorflow.keras.models import Sequential\n",
    "from tensorflow.keras.layers import Dense, Dropout, Conv2D, MaxPool2D\n",
    "#from tensorflow.keras.utils import np_utils\n"
   ]
  },
  {
   "cell_type": "code",
   "execution_count": 111,
   "metadata": {},
   "outputs": [],
   "source": [
    "label_dir = {'colon':1,'endometrium_1':2,'endometrium_2':3,'kidney':4,'liver':5,'lung':6,'lymph_node':7,'pancreas':8,'skin_1':9,'skin_2':10,'small_intestine':11,'spleen':12}"
   ]
  },
  {
   "cell_type": "code",
   "execution_count": 90,
   "metadata": {},
   "outputs": [],
   "source": [
    "images_dir = r'D:\\\\mitali\\\\train\\\\'\n",
    "train_data = []\n",
    "folder_list = os.listdir(images_dir)\n",
    "for ind,name in enumerate (folder_list):\n",
    "    images = Path(images_dir+str(name)).glob(\"*.tif\")\n",
    "    for i in images:\n",
    "        train_data.append((i,label_dir[name]))\n"
   ]
  },
  {
   "cell_type": "code",
   "execution_count": 91,
   "metadata": {},
   "outputs": [
    {
     "data": {
      "text/plain": [
       "[(WindowsPath('D:/mitali/train/colon/40043_94144_A_7_3.tif'), 1),\n",
       " (WindowsPath('D:/mitali/train/colon/40043_94144_A_8_3.tif'), 1),\n",
       " (WindowsPath('D:/mitali/train/colon/40043_94144_A_9_3.tif'), 1),\n",
       " (WindowsPath('D:/mitali/train/colon/40044_96798_A_8_3.tif'), 1),\n",
       " (WindowsPath('D:/mitali/train/colon/40045_97686_A_7_3.tif'), 1),\n",
       " (WindowsPath('D:/mitali/train/colon/40045_97686_A_8_3.tif'), 1),\n",
       " (WindowsPath('D:/mitali/train/colon/40046_142250_A_7_3.tif'), 1),\n",
       " (WindowsPath('D:/mitali/train/colon/40046_142250_A_8_3.tif'), 1),\n",
       " (WindowsPath('D:/mitali/train/colon/40046_142250_A_9_3.tif'), 1),\n",
       " (WindowsPath('D:/mitali/train/colon/40048_84862_A_7_3.tif'), 1),\n",
       " (WindowsPath('D:/mitali/train/colon/40048_84862_A_8_3.tif'), 1),\n",
       " (WindowsPath('D:/mitali/train/colon/40048_84862_A_9_3.tif'), 1),\n",
       " (WindowsPath('D:/mitali/train/colon/40051_87105_A_7_3.tif'), 1),\n",
       " (WindowsPath('D:/mitali/train/colon/40051_87105_A_8_3.tif'), 1),\n",
       " (WindowsPath('D:/mitali/train/colon/40051_87105_A_9_3.tif'), 1),\n",
       " (WindowsPath('D:/mitali/train/colon/40052_130536_A_7_3.tif'), 1),\n",
       " (WindowsPath('D:/mitali/train/colon/40052_130536_A_8_3.tif'), 1),\n",
       " (WindowsPath('D:/mitali/train/colon/40052_130536_A_9_3.tif'), 1),\n",
       " (WindowsPath('D:/mitali/train/colon/40055_84642_A_8_3.tif'), 1),\n",
       " (WindowsPath('D:/mitali/train/colon/40055_84642_A_9_3.tif'), 1),\n",
       " (WindowsPath('D:/mitali/train/colon/40057_86761_A_7_3.tif'), 1),\n",
       " (WindowsPath('D:/mitali/train/colon/40057_86761_A_8_3.tif'), 1),\n",
       " (WindowsPath('D:/mitali/train/colon/40057_86761_A_9_3.tif'), 1),\n",
       " (WindowsPath('D:/mitali/train/colon/40061_85040_A_7_3.tif'), 1),\n",
       " (WindowsPath('D:/mitali/train/colon/40061_85040_A_8_3.tif'), 1),\n",
       " (WindowsPath('D:/mitali/train/colon/40061_85040_A_9_3.tif'), 1),\n",
       " (WindowsPath('D:/mitali/train/colon/40063_88048_A_7_3.tif'), 1),\n",
       " (WindowsPath('D:/mitali/train/colon/40063_88048_A_8_3.tif'), 1),\n",
       " (WindowsPath('D:/mitali/train/colon/40063_88048_A_9_3.tif'), 1),\n",
       " (WindowsPath('D:/mitali/train/colon/40064_95300_A_8_3.tif'), 1),\n",
       " (WindowsPath('D:/mitali/train/colon/40064_95300_A_9_3.tif'), 1),\n",
       " (WindowsPath('D:/mitali/train/colon/40065_96284_A_7_3.tif'), 1),\n",
       " (WindowsPath('D:/mitali/train/colon/40065_96284_A_9_3.tif'), 1),\n",
       " (WindowsPath('D:/mitali/train/colon/40066_141607_A_9_3.tif'), 1),\n",
       " (WindowsPath('D:/mitali/train/colon/40067_100847_A_7_3.tif'), 1),\n",
       " (WindowsPath('D:/mitali/train/colon/40067_100847_A_8_3.tif'), 1),\n",
       " (WindowsPath('D:/mitali/train/colon/40067_100847_A_9_3.tif'), 1),\n",
       " (WindowsPath('D:/mitali/train/colon/40070_85003_A_8_3.tif'), 1),\n",
       " (WindowsPath('D:/mitali/train/colon/40070_85003_A_9_3.tif'), 1),\n",
       " (WindowsPath('D:/mitali/train/colon/40071_95769_A_7_3.tif'), 1),\n",
       " (WindowsPath('D:/mitali/train/colon/40071_95769_A_8_3.tif'), 1),\n",
       " (WindowsPath('D:/mitali/train/colon/40071_95769_A_9_3.tif'), 1),\n",
       " (WindowsPath('D:/mitali/train/colon/40072_106264_A_7_3.tif'), 1),\n",
       " (WindowsPath('D:/mitali/train/colon/40072_106264_A_9_3.tif'), 1),\n",
       " (WindowsPath('D:/mitali/train/colon/40075_86364_A_7_3.tif'), 1),\n",
       " (WindowsPath('D:/mitali/train/colon/40075_86364_A_8_3.tif'), 1),\n",
       " (WindowsPath('D:/mitali/train/colon/40075_86364_A_9_3.tif'), 1),\n",
       " (WindowsPath('D:/mitali/train/colon/40082_86041_A_7_3.tif'), 1),\n",
       " (WindowsPath('D:/mitali/train/colon/40082_86041_A_8_3.tif'), 1),\n",
       " (WindowsPath('D:/mitali/train/colon/40082_86041_A_9_3.tif'), 1),\n",
       " (WindowsPath('D:/mitali/train/colon/40084_84728_A_8_3.tif'), 1),\n",
       " (WindowsPath('D:/mitali/train/colon/40084_84728_A_9_3.tif'), 1),\n",
       " (WindowsPath('D:/mitali/train/colon/40086_89217_A_7_3.tif'), 1),\n",
       " (WindowsPath('D:/mitali/train/colon/40086_89217_A_8_3.tif'), 1),\n",
       " (WindowsPath('D:/mitali/train/colon/40087_95048_A_7_3.tif'), 1),\n",
       " (WindowsPath('D:/mitali/train/colon/40087_95048_A_8_3.tif'), 1),\n",
       " (WindowsPath('D:/mitali/train/colon/40087_95048_A_9_3.tif'), 1),\n",
       " (WindowsPath('D:/mitali/train/colon/40088_87867_A_7_3.tif'), 1),\n",
       " (WindowsPath('D:/mitali/train/colon/40088_87867_A_8_3.tif'), 1),\n",
       " (WindowsPath('D:/mitali/train/colon/40088_87867_A_9_3.tif'), 1),\n",
       " (WindowsPath('D:/mitali/train/colon/40090_88282_A_7_3.tif'), 1),\n",
       " (WindowsPath('D:/mitali/train/colon/40090_88282_A_8_3.tif'), 1),\n",
       " (WindowsPath('D:/mitali/train/colon/40090_88282_A_9_3.tif'), 1),\n",
       " (WindowsPath('D:/mitali/train/colon/40092_85426_A_8_3.tif'), 1),\n",
       " (WindowsPath('D:/mitali/train/colon/40092_85426_A_9_3.tif'), 1),\n",
       " (WindowsPath('D:/mitali/train/colon/40098_90797_A_7_3.tif'), 1),\n",
       " (WindowsPath('D:/mitali/train/colon/40098_90797_A_8_3.tif'), 1),\n",
       " (WindowsPath('D:/mitali/train/colon/40101_88202_A_7_3.tif'), 1),\n",
       " (WindowsPath('D:/mitali/train/colon/40101_88202_A_8_3.tif'), 1),\n",
       " (WindowsPath('D:/mitali/train/colon/40101_88202_A_9_3.tif'), 1),\n",
       " (WindowsPath('D:/mitali/train/colon/40110_88954_A_7_3.tif'), 1),\n",
       " (WindowsPath('D:/mitali/train/colon/40110_88954_A_8_3.tif'), 1),\n",
       " (WindowsPath('D:/mitali/train/colon/40110_88954_A_9_3.tif'), 1),\n",
       " (WindowsPath('D:/mitali/train/colon/40111_90192_A_8_3.tif'), 1),\n",
       " (WindowsPath('D:/mitali/train/colon/40111_90192_A_9_3.tif'), 1),\n",
       " (WindowsPath('D:/mitali/train/colon/40118_84737_A_7_3.tif'), 1),\n",
       " (WindowsPath('D:/mitali/train/colon/40118_84737_A_8_3.tif'), 1),\n",
       " (WindowsPath('D:/mitali/train/colon/40118_84737_A_9_3.tif'), 1),\n",
       " (WindowsPath('D:/mitali/train/colon/40119_88286_A_8_3.tif'), 1),\n",
       " (WindowsPath('D:/mitali/train/colon/40119_88286_A_9_3.tif'), 1),\n",
       " (WindowsPath('D:/mitali/train/colon/40120_85744_A_7_3.tif'), 1),\n",
       " (WindowsPath('D:/mitali/train/colon/40120_85744_A_9_3.tif'), 1),\n",
       " (WindowsPath('D:/mitali/train/colon/40125_164309_A_7_3.tif'), 1),\n",
       " (WindowsPath('D:/mitali/train/colon/40125_164309_A_9_3.tif'), 1),\n",
       " (WindowsPath('D:/mitali/train/colon/40126_85296_A_8_3.tif'), 1),\n",
       " (WindowsPath('D:/mitali/train/colon/40126_85296_A_9_3.tif'), 1),\n",
       " (WindowsPath('D:/mitali/train/colon/40128_85100_A_8_3.tif'), 1),\n",
       " (WindowsPath('D:/mitali/train/colon/40128_85100_A_9_3.tif'), 1),\n",
       " (WindowsPath('D:/mitali/train/colon/40134_97237_A_8_3.tif'), 1),\n",
       " (WindowsPath('D:/mitali/train/colon/40140_85634_A_8_3.tif'), 1),\n",
       " (WindowsPath('D:/mitali/train/colon/40140_85634_A_9_3.tif'), 1),\n",
       " (WindowsPath('D:/mitali/train/colon/40143_160046_A_7_3.tif'), 1),\n",
       " (WindowsPath('D:/mitali/train/colon/40143_160046_A_8_3.tif'), 1),\n",
       " (WindowsPath('D:/mitali/train/colon/40143_160046_A_9_3.tif'), 1),\n",
       " (WindowsPath('D:/mitali/train/colon/40145_126560_A_7_3.tif'), 1),\n",
       " (WindowsPath('D:/mitali/train/colon/40145_126560_A_8_3.tif'), 1),\n",
       " (WindowsPath('D:/mitali/train/colon/40145_126560_A_9_3.tif'), 1),\n",
       " (WindowsPath('D:/mitali/train/colon/40147_86573_A_7_3.tif'), 1),\n",
       " (WindowsPath('D:/mitali/train/colon/40147_86573_A_8_3.tif'), 1),\n",
       " (WindowsPath('D:/mitali/train/colon/40147_86573_A_9_3.tif'), 1),\n",
       " (WindowsPath('D:/mitali/train/endometrium_1/40043_94144_B_4_3.tif'), 2),\n",
       " (WindowsPath('D:/mitali/train/endometrium_1/40043_94144_B_5_3.tif'), 2),\n",
       " (WindowsPath('D:/mitali/train/endometrium_1/40044_96798_B_4_3.tif'), 2),\n",
       " (WindowsPath('D:/mitali/train/endometrium_1/40044_96798_B_5_3.tif'), 2),\n",
       " (WindowsPath('D:/mitali/train/endometrium_1/40044_96798_B_6_3.tif'), 2),\n",
       " (WindowsPath('D:/mitali/train/endometrium_1/40045_97686_B_4_3.tif'), 2),\n",
       " (WindowsPath('D:/mitali/train/endometrium_1/40045_97686_B_5_3.tif'), 2),\n",
       " (WindowsPath('D:/mitali/train/endometrium_1/40045_97686_B_6_3.tif'), 2),\n",
       " (WindowsPath('D:/mitali/train/endometrium_1/40046_142250_B_5_3.tif'), 2),\n",
       " (WindowsPath('D:/mitali/train/endometrium_1/40046_142250_B_6_3.tif'), 2),\n",
       " (WindowsPath('D:/mitali/train/endometrium_1/40048_84862_B_4_3.tif'), 2),\n",
       " (WindowsPath('D:/mitali/train/endometrium_1/40048_84862_B_5_3.tif'), 2),\n",
       " (WindowsPath('D:/mitali/train/endometrium_1/40051_87105_B_4_3.tif'), 2),\n",
       " (WindowsPath('D:/mitali/train/endometrium_1/40051_87105_B_5_3.tif'), 2),\n",
       " (WindowsPath('D:/mitali/train/endometrium_1/40051_87105_B_6_3.tif'), 2),\n",
       " (WindowsPath('D:/mitali/train/endometrium_1/40052_130536_B_4_3.tif'), 2),\n",
       " (WindowsPath('D:/mitali/train/endometrium_1/40052_130536_B_5_3.tif'), 2),\n",
       " (WindowsPath('D:/mitali/train/endometrium_1/40052_130536_B_6_3.tif'), 2),\n",
       " (WindowsPath('D:/mitali/train/endometrium_1/40055_84411_B_4_3.tif'), 2),\n",
       " (WindowsPath('D:/mitali/train/endometrium_1/40057_86761_B_6_3.tif'), 2),\n",
       " (WindowsPath('D:/mitali/train/endometrium_2/40043_94144_B_1_3.tif'), 3),\n",
       " (WindowsPath('D:/mitali/train/endometrium_2/40043_94144_B_2_3.tif'), 3),\n",
       " (WindowsPath('D:/mitali/train/endometrium_2/40044_96798_B_1_3.tif'), 3),\n",
       " (WindowsPath('D:/mitali/train/endometrium_2/40044_96798_B_2_3.tif'), 3),\n",
       " (WindowsPath('D:/mitali/train/endometrium_2/40044_96798_B_3_3.tif'), 3),\n",
       " (WindowsPath('D:/mitali/train/endometrium_2/40045_97686_B_1_3.tif'), 3),\n",
       " (WindowsPath('D:/mitali/train/endometrium_2/40046_142250_B_2_3.tif'), 3),\n",
       " (WindowsPath('D:/mitali/train/endometrium_2/40046_142250_B_3_3.tif'), 3),\n",
       " (WindowsPath('D:/mitali/train/endometrium_2/40048_84862_B_2_3.tif'), 3),\n",
       " (WindowsPath('D:/mitali/train/endometrium_2/40051_87105_B_2_3.tif'), 3),\n",
       " (WindowsPath('D:/mitali/train/endometrium_2/40052_130536_B_1_3.tif'), 3),\n",
       " (WindowsPath('D:/mitali/train/endometrium_2/40055_84411_B_2_3.tif'), 3),\n",
       " (WindowsPath('D:/mitali/train/endometrium_2/40057_86761_B_1_3.tif'), 3),\n",
       " (WindowsPath('D:/mitali/train/endometrium_2/40057_86761_B_3_3.tif'), 3),\n",
       " (WindowsPath('D:/mitali/train/endometrium_2/40061_85040_B_1_3.tif'), 3),\n",
       " (WindowsPath('D:/mitali/train/endometrium_2/40061_85040_B_2_3.tif'), 3),\n",
       " (WindowsPath('D:/mitali/train/endometrium_2/40061_85040_B_3_3.tif'), 3),\n",
       " (WindowsPath('D:/mitali/train/endometrium_2/40063_88048_B_1_3.tif'), 3),\n",
       " (WindowsPath('D:/mitali/train/endometrium_2/40064_95300_B_1_3.tif'), 3),\n",
       " (WindowsPath('D:/mitali/train/kidney/40043_94144_A_7_5.tif'), 4),\n",
       " (WindowsPath('D:/mitali/train/kidney/40043_94144_A_9_5.tif'), 4),\n",
       " (WindowsPath('D:/mitali/train/kidney/40044_96798_A_7_5.tif'), 4),\n",
       " (WindowsPath('D:/mitali/train/kidney/40044_96798_A_8_5.tif'), 4),\n",
       " (WindowsPath('D:/mitali/train/kidney/40044_96798_A_9_5.tif'), 4),\n",
       " (WindowsPath('D:/mitali/train/kidney/40045_97686_A_7_5.tif'), 4),\n",
       " (WindowsPath('D:/mitali/train/kidney/40045_97686_A_8_5.tif'), 4),\n",
       " (WindowsPath('D:/mitali/train/kidney/40045_97686_A_9_5.tif'), 4),\n",
       " (WindowsPath('D:/mitali/train/kidney/40046_142250_A_7_5.tif'), 4),\n",
       " (WindowsPath('D:/mitali/train/kidney/40046_142250_A_8_5.tif'), 4),\n",
       " (WindowsPath('D:/mitali/train/kidney/40046_142250_A_9_5.tif'), 4),\n",
       " (WindowsPath('D:/mitali/train/kidney/40048_84862_A_8_5.tif'), 4),\n",
       " (WindowsPath('D:/mitali/train/kidney/40048_84862_A_9_5.tif'), 4),\n",
       " (WindowsPath('D:/mitali/train/kidney/40051_87105_A_7_5.tif'), 4),\n",
       " (WindowsPath('D:/mitali/train/kidney/40051_87105_A_8_5.tif'), 4),\n",
       " (WindowsPath('D:/mitali/train/kidney/40052_130536_A_7_5.tif'), 4),\n",
       " (WindowsPath('D:/mitali/train/kidney/40052_130536_A_8_5.tif'), 4),\n",
       " (WindowsPath('D:/mitali/train/kidney/40055_84642_A_7_5.tif'), 4),\n",
       " (WindowsPath('D:/mitali/train/kidney/40055_84642_A_8_5.tif'), 4),\n",
       " (WindowsPath('D:/mitali/train/kidney/40055_84642_A_9_5.tif'), 4),\n",
       " (WindowsPath('D:/mitali/train/kidney/40057_86761_A_7_5.tif'), 4),\n",
       " (WindowsPath('D:/mitali/train/liver/40043_94144_A_7_4.tif'), 5),\n",
       " (WindowsPath('D:/mitali/train/liver/40043_94144_A_8_4.tif'), 5),\n",
       " (WindowsPath('D:/mitali/train/liver/40043_94144_A_9_4.tif'), 5),\n",
       " (WindowsPath('D:/mitali/train/liver/40044_96798_A_7_4.tif'), 5),\n",
       " (WindowsPath('D:/mitali/train/liver/40044_96798_A_8_4.tif'), 5),\n",
       " (WindowsPath('D:/mitali/train/liver/40044_96798_A_9_4.tif'), 5),\n",
       " (WindowsPath('D:/mitali/train/liver/40045_97686_A_7_4.tif'), 5),\n",
       " (WindowsPath('D:/mitali/train/liver/40045_97686_A_8_4.tif'), 5),\n",
       " (WindowsPath('D:/mitali/train/liver/40046_142250_A_7_4.tif'), 5),\n",
       " (WindowsPath('D:/mitali/train/liver/40046_142250_A_8_4.tif'), 5),\n",
       " (WindowsPath('D:/mitali/train/liver/40046_142250_A_9_4.tif'), 5),\n",
       " (WindowsPath('D:/mitali/train/liver/40048_84862_A_7_4.tif'), 5),\n",
       " (WindowsPath('D:/mitali/train/liver/40048_84862_A_9_4.tif'), 5),\n",
       " (WindowsPath('D:/mitali/train/liver/40051_87105_A_7_4.tif'), 5),\n",
       " (WindowsPath('D:/mitali/train/liver/40051_87105_A_8_4.tif'), 5),\n",
       " (WindowsPath('D:/mitali/train/liver/40051_87105_A_9_4.tif'), 5),\n",
       " (WindowsPath('D:/mitali/train/liver/40052_130536_A_7_4.tif'), 5),\n",
       " (WindowsPath('D:/mitali/train/liver/40055_84642_A_7_4.tif'), 5),\n",
       " (WindowsPath('D:/mitali/train/liver/40055_84642_A_8_4.tif'), 5),\n",
       " (WindowsPath('D:/mitali/train/liver/40057_86761_A_7_4.tif'), 5),\n",
       " (WindowsPath('D:/mitali/train/lung/40043_94144_A_1_4.tif'), 6),\n",
       " (WindowsPath('D:/mitali/train/lung/40043_94144_A_3_4.tif'), 6),\n",
       " (WindowsPath('D:/mitali/train/lung/40044_96798_A_1_4.tif'), 6),\n",
       " (WindowsPath('D:/mitali/train/lung/40044_96798_A_2_4.tif'), 6),\n",
       " (WindowsPath('D:/mitali/train/lung/40044_96798_A_3_4.tif'), 6),\n",
       " (WindowsPath('D:/mitali/train/lung/40045_97686_A_1_4.tif'), 6),\n",
       " (WindowsPath('D:/mitali/train/lung/40045_97686_A_2_4.tif'), 6),\n",
       " (WindowsPath('D:/mitali/train/lung/40045_97686_A_3_4.tif'), 6),\n",
       " (WindowsPath('D:/mitali/train/lung/40046_142250_A_1_4.tif'), 6),\n",
       " (WindowsPath('D:/mitali/train/lung/40046_142250_A_2_4.tif'), 6),\n",
       " (WindowsPath('D:/mitali/train/lung/40046_142250_A_3_4.tif'), 6),\n",
       " (WindowsPath('D:/mitali/train/lung/40048_84862_A_3_4.tif'), 6),\n",
       " (WindowsPath('D:/mitali/train/lung/40051_87105_A_1_4.tif'), 6),\n",
       " (WindowsPath('D:/mitali/train/lung/40051_87105_A_2_4.tif'), 6),\n",
       " (WindowsPath('D:/mitali/train/lung/40051_87105_A_3_4.tif'), 6),\n",
       " (WindowsPath('D:/mitali/train/lung/40052_130536_A_1_4.tif'), 6),\n",
       " (WindowsPath('D:/mitali/train/lung/40052_130536_A_3_4.tif'), 6),\n",
       " (WindowsPath('D:/mitali/train/lung/40055_84642_A_2_4.tif'), 6),\n",
       " (WindowsPath('D:/mitali/train/lung/40055_84642_A_3_4.tif'), 6)]"
      ]
     },
     "execution_count": 91,
     "metadata": {},
     "output_type": "execute_result"
    }
   ],
   "source": [
    "train_data"
   ]
  },
  {
   "cell_type": "code",
   "execution_count": 92,
   "metadata": {},
   "outputs": [
    {
     "data": {
      "text/plain": [
       "199"
      ]
     },
     "execution_count": 92,
     "metadata": {},
     "output_type": "execute_result"
    }
   ],
   "source": [
    "len(train_data)"
   ]
  },
  {
   "cell_type": "code",
   "execution_count": 93,
   "metadata": {},
   "outputs": [
    {
     "data": {
      "text/html": [
       "<div>\n",
       "<style scoped>\n",
       "    .dataframe tbody tr th:only-of-type {\n",
       "        vertical-align: middle;\n",
       "    }\n",
       "\n",
       "    .dataframe tbody tr th {\n",
       "        vertical-align: top;\n",
       "    }\n",
       "\n",
       "    .dataframe thead th {\n",
       "        text-align: right;\n",
       "    }\n",
       "</style>\n",
       "<table border=\"1\" class=\"dataframe\">\n",
       "  <thead>\n",
       "    <tr style=\"text-align: right;\">\n",
       "      <th></th>\n",
       "      <th>image</th>\n",
       "      <th>label</th>\n",
       "    </tr>\n",
       "  </thead>\n",
       "  <tbody>\n",
       "    <tr>\n",
       "      <th>0</th>\n",
       "      <td>D:\\mitali\\train\\colon\\40043_94144_A_7_3.tif</td>\n",
       "      <td>1</td>\n",
       "    </tr>\n",
       "    <tr>\n",
       "      <th>1</th>\n",
       "      <td>D:\\mitali\\train\\colon\\40043_94144_A_8_3.tif</td>\n",
       "      <td>1</td>\n",
       "    </tr>\n",
       "    <tr>\n",
       "      <th>2</th>\n",
       "      <td>D:\\mitali\\train\\colon\\40043_94144_A_9_3.tif</td>\n",
       "      <td>1</td>\n",
       "    </tr>\n",
       "    <tr>\n",
       "      <th>3</th>\n",
       "      <td>D:\\mitali\\train\\colon\\40044_96798_A_8_3.tif</td>\n",
       "      <td>1</td>\n",
       "    </tr>\n",
       "    <tr>\n",
       "      <th>4</th>\n",
       "      <td>D:\\mitali\\train\\colon\\40045_97686_A_7_3.tif</td>\n",
       "      <td>1</td>\n",
       "    </tr>\n",
       "    <tr>\n",
       "      <th>...</th>\n",
       "      <td>...</td>\n",
       "      <td>...</td>\n",
       "    </tr>\n",
       "    <tr>\n",
       "      <th>194</th>\n",
       "      <td>D:\\mitali\\train\\lung\\40051_87105_A_3_4.tif</td>\n",
       "      <td>6</td>\n",
       "    </tr>\n",
       "    <tr>\n",
       "      <th>195</th>\n",
       "      <td>D:\\mitali\\train\\lung\\40052_130536_A_1_4.tif</td>\n",
       "      <td>6</td>\n",
       "    </tr>\n",
       "    <tr>\n",
       "      <th>196</th>\n",
       "      <td>D:\\mitali\\train\\lung\\40052_130536_A_3_4.tif</td>\n",
       "      <td>6</td>\n",
       "    </tr>\n",
       "    <tr>\n",
       "      <th>197</th>\n",
       "      <td>D:\\mitali\\train\\lung\\40055_84642_A_2_4.tif</td>\n",
       "      <td>6</td>\n",
       "    </tr>\n",
       "    <tr>\n",
       "      <th>198</th>\n",
       "      <td>D:\\mitali\\train\\lung\\40055_84642_A_3_4.tif</td>\n",
       "      <td>6</td>\n",
       "    </tr>\n",
       "  </tbody>\n",
       "</table>\n",
       "<p>199 rows × 2 columns</p>\n",
       "</div>"
      ],
      "text/plain": [
       "                                           image  label\n",
       "0    D:\\mitali\\train\\colon\\40043_94144_A_7_3.tif      1\n",
       "1    D:\\mitali\\train\\colon\\40043_94144_A_8_3.tif      1\n",
       "2    D:\\mitali\\train\\colon\\40043_94144_A_9_3.tif      1\n",
       "3    D:\\mitali\\train\\colon\\40044_96798_A_8_3.tif      1\n",
       "4    D:\\mitali\\train\\colon\\40045_97686_A_7_3.tif      1\n",
       "..                                           ...    ...\n",
       "194   D:\\mitali\\train\\lung\\40051_87105_A_3_4.tif      6\n",
       "195  D:\\mitali\\train\\lung\\40052_130536_A_1_4.tif      6\n",
       "196  D:\\mitali\\train\\lung\\40052_130536_A_3_4.tif      6\n",
       "197   D:\\mitali\\train\\lung\\40055_84642_A_2_4.tif      6\n",
       "198   D:\\mitali\\train\\lung\\40055_84642_A_3_4.tif      6\n",
       "\n",
       "[199 rows x 2 columns]"
      ]
     },
     "execution_count": 93,
     "metadata": {},
     "output_type": "execute_result"
    }
   ],
   "source": [
    "train_data = pd.DataFrame(train_data,columns=['image','label'],index=None)\n",
    "train_data"
   ]
  },
  {
   "cell_type": "code",
   "execution_count": 94,
   "metadata": {},
   "outputs": [],
   "source": [
    "train_data['image'] = train_data['image'].apply(lambda x : cv2.imread(str(x)))"
   ]
  },
  {
   "cell_type": "code",
   "execution_count": 97,
   "metadata": {},
   "outputs": [
    {
     "data": {
      "text/plain": [
       "(3000, 3000, 3)"
      ]
     },
     "execution_count": 97,
     "metadata": {},
     "output_type": "execute_result"
    },
    {
     "name": "stdout",
     "output_type": "stream",
     "text": [
      "ERROR! Session/line number was not unique in database. History logging moved to new session 541\n"
     ]
    }
   ],
   "source": [
    "train_data['image'][0].shape"
   ]
  },
  {
   "cell_type": "markdown",
   "metadata": {},
   "source": [
    "# Data Augmentation to create new data with different orientations"
   ]
  },
  {
   "cell_type": "code",
   "execution_count": 98,
   "metadata": {},
   "outputs": [
    {
     "name": "stderr",
     "output_type": "stream",
     "text": [
      "ERROR:root:Internal Python error in the inspect module.\n",
      "Below is the traceback from this internal error.\n",
      "\n"
     ]
    },
    {
     "name": "stdout",
     "output_type": "stream",
     "text": [
      "Traceback (most recent call last):\n",
      "  File \"D:\\Anaconda\\lib\\site-packages\\IPython\\core\\interactiveshell.py\", line 3331, in run_code\n",
      "    exec(code_obj, self.user_global_ns, self.user_ns)\n",
      "  File \"<ipython-input-98-db95cabe4567>\", line 1, in <module>\n",
      "    train_data['image'] = train_data['image'].apply(lambda x : cv2.cvtColor(x, cv2.COLOR_BGR2GRAY))\n",
      "  File \"D:\\Anaconda\\lib\\site-packages\\pandas\\core\\series.py\", line 3848, in apply\n",
      "    mapped = lib.map_infer(values, f, convert=convert_dtype)\n",
      "  File \"pandas\\_libs\\lib.pyx\", line 2327, in pandas._libs.lib.map_infer\n",
      "  File \"<ipython-input-98-db95cabe4567>\", line 1, in <lambda>\n",
      "    train_data['image'] = train_data['image'].apply(lambda x : cv2.cvtColor(x, cv2.COLOR_BGR2GRAY))\n",
      "KeyboardInterrupt\n",
      "\n",
      "During handling of the above exception, another exception occurred:\n",
      "\n",
      "Traceback (most recent call last):\n",
      "  File \"D:\\Anaconda\\lib\\site-packages\\IPython\\core\\interactiveshell.py\", line 2044, in showtraceback\n",
      "    stb = value._render_traceback_()\n",
      "AttributeError: 'KeyboardInterrupt' object has no attribute '_render_traceback_'\n",
      "\n",
      "During handling of the above exception, another exception occurred:\n",
      "\n",
      "Traceback (most recent call last):\n",
      "  File \"D:\\Anaconda\\lib\\site-packages\\IPython\\core\\ultratb.py\", line 1151, in get_records\n",
      "    return _fixed_getinnerframes(etb, number_of_lines_of_context, tb_offset)\n",
      "  File \"D:\\Anaconda\\lib\\site-packages\\IPython\\core\\ultratb.py\", line 319, in wrapped\n",
      "    return f(*args, **kwargs)\n",
      "  File \"D:\\Anaconda\\lib\\site-packages\\IPython\\core\\ultratb.py\", line 353, in _fixed_getinnerframes\n",
      "    records = fix_frame_records_filenames(inspect.getinnerframes(etb, context))\n",
      "  File \"D:\\Anaconda\\lib\\inspect.py\", line 1502, in getinnerframes\n",
      "    frameinfo = (tb.tb_frame,) + getframeinfo(tb, context)\n",
      "  File \"D:\\Anaconda\\lib\\inspect.py\", line 1460, in getframeinfo\n",
      "    filename = getsourcefile(frame) or getfile(frame)\n",
      "  File \"D:\\Anaconda\\lib\\inspect.py\", line 696, in getsourcefile\n",
      "    if getattr(getmodule(object, filename), '__loader__', None) is not None:\n",
      "  File \"D:\\Anaconda\\lib\\inspect.py\", line 732, in getmodule\n",
      "    for modname, module in list(sys.modules.items()):\n",
      "KeyboardInterrupt\n"
     ]
    },
    {
     "ename": "KeyboardInterrupt",
     "evalue": "",
     "output_type": "error",
     "traceback": [
      "\u001b[1;31m---------------------------------------------------------------------------\u001b[0m"
     ]
    }
   ],
   "source": [
    "#train_data['image'] = train_data['image'].apply(lambda x : cv2.cvtColor(x, cv2.COLOR_BGR2GRAY))"
   ]
  },
  {
   "cell_type": "code",
   "execution_count": 201,
   "metadata": {},
   "outputs": [],
   "source": [
    "split_criteria = round(len(train_data)*0.8)\n",
    "\n",
    "x_train = train_data['image'][:split_criteria]\n",
    "y_train = train_data['label'][:split_criteria]\n",
    "x_test = train_data['image'][split_criteria:]\n",
    "y_test = train_data['label'][split_criteria:]"
   ]
  },
  {
   "cell_type": "code",
   "execution_count": 198,
   "metadata": {},
   "outputs": [
    {
     "data": {
      "text/plain": [
       "(159, 1)"
      ]
     },
     "execution_count": 198,
     "metadata": {},
     "output_type": "execute_result"
    }
   ],
   "source": [
    "x_train = x_train.values.reshape(x_train.shape[0],1)\n",
    "#x_test = x_test.values.reshape(x_test.shape[0],1)\n",
    "x_train.shape"
   ]
  },
  {
   "cell_type": "markdown",
   "metadata": {},
   "source": [
    "# Training a CNN\n"
   ]
  },
  {
   "cell_type": "code",
   "execution_count": 200,
   "metadata": {},
   "outputs": [
    {
     "ename": "ValueError",
     "evalue": "Input 0 of layer conv2d_231 is incompatible with the layer: expected ndim=4, found ndim=3. Full shape received: [None, 159, 1]",
     "output_type": "error",
     "traceback": [
      "\u001b[1;31m---------------------------------------------------------------------------\u001b[0m",
      "\u001b[1;31mValueError\u001b[0m                                Traceback (most recent call last)",
      "\u001b[1;32m<ipython-input-200-cbc9f69772c5>\u001b[0m in \u001b[0;36m<module>\u001b[1;34m\u001b[0m\n\u001b[0;32m      1\u001b[0m \u001b[0mmodel\u001b[0m \u001b[1;33m=\u001b[0m \u001b[0mkeras\u001b[0m\u001b[1;33m.\u001b[0m\u001b[0mSequential\u001b[0m\u001b[1;33m(\u001b[0m\u001b[1;33m)\u001b[0m\u001b[1;33m\u001b[0m\u001b[1;33m\u001b[0m\u001b[0m\n\u001b[1;32m----> 2\u001b[1;33m \u001b[0mmodel\u001b[0m\u001b[1;33m.\u001b[0m\u001b[0madd\u001b[0m\u001b[1;33m(\u001b[0m\u001b[0mlayers\u001b[0m\u001b[1;33m.\u001b[0m\u001b[0mConv2D\u001b[0m\u001b[1;33m(\u001b[0m\u001b[1;36m6\u001b[0m\u001b[1;33m,\u001b[0m\u001b[1;33m(\u001b[0m\u001b[1;36m3\u001b[0m\u001b[1;33m,\u001b[0m\u001b[1;36m3\u001b[0m\u001b[1;33m)\u001b[0m\u001b[1;33m,\u001b[0m\u001b[0minput_shape\u001b[0m \u001b[1;33m=\u001b[0m \u001b[0mx_train\u001b[0m\u001b[1;33m.\u001b[0m\u001b[0mshape\u001b[0m\u001b[1;33m,\u001b[0m\u001b[0mactivation\u001b[0m\u001b[1;33m=\u001b[0m\u001b[1;34m'relu'\u001b[0m\u001b[1;33m)\u001b[0m\u001b[1;33m)\u001b[0m\u001b[1;33m\u001b[0m\u001b[1;33m\u001b[0m\u001b[0m\n\u001b[0m\u001b[0;32m      3\u001b[0m \u001b[0mmodel\u001b[0m\u001b[1;33m.\u001b[0m\u001b[0madd\u001b[0m\u001b[1;33m(\u001b[0m\u001b[0mlayers\u001b[0m\u001b[1;33m.\u001b[0m\u001b[0mMaxPooling2D\u001b[0m\u001b[1;33m(\u001b[0m\u001b[0mpool_size\u001b[0m\u001b[1;33m=\u001b[0m\u001b[1;33m(\u001b[0m\u001b[1;36m2\u001b[0m\u001b[1;33m,\u001b[0m\u001b[1;36m2\u001b[0m\u001b[1;33m)\u001b[0m\u001b[1;33m,\u001b[0m\u001b[0mstrides\u001b[0m\u001b[1;33m=\u001b[0m\u001b[1;36m2\u001b[0m\u001b[1;33m)\u001b[0m\u001b[1;33m)\u001b[0m\u001b[1;33m\u001b[0m\u001b[1;33m\u001b[0m\u001b[0m\n\u001b[0;32m      4\u001b[0m \u001b[0mmodel\u001b[0m\u001b[1;33m.\u001b[0m\u001b[0madd\u001b[0m\u001b[1;33m(\u001b[0m\u001b[0mDropout\u001b[0m\u001b[1;33m(\u001b[0m\u001b[1;36m0.4\u001b[0m\u001b[1;33m)\u001b[0m\u001b[1;33m)\u001b[0m\u001b[1;33m\u001b[0m\u001b[1;33m\u001b[0m\u001b[0m\n\u001b[0;32m      5\u001b[0m \u001b[0mmodel\u001b[0m\u001b[1;33m.\u001b[0m\u001b[0madd\u001b[0m\u001b[1;33m(\u001b[0m\u001b[0mlayers\u001b[0m\u001b[1;33m.\u001b[0m\u001b[0mConv2D\u001b[0m\u001b[1;33m(\u001b[0m\u001b[1;36m32\u001b[0m\u001b[1;33m,\u001b[0m\u001b[1;33m(\u001b[0m\u001b[1;36m3\u001b[0m\u001b[1;33m,\u001b[0m\u001b[1;36m3\u001b[0m\u001b[1;33m)\u001b[0m\u001b[1;33m,\u001b[0m\u001b[0mpadding\u001b[0m\u001b[1;33m=\u001b[0m\u001b[1;34m'valid'\u001b[0m\u001b[1;33m,\u001b[0m\u001b[0mactivation\u001b[0m\u001b[1;33m=\u001b[0m\u001b[1;34m'relu'\u001b[0m\u001b[1;33m)\u001b[0m\u001b[1;33m)\u001b[0m\u001b[1;33m\u001b[0m\u001b[1;33m\u001b[0m\u001b[0m\n",
      "\u001b[1;32mD:\\Anaconda\\lib\\site-packages\\tensorflow_core\\python\\training\\tracking\\base.py\u001b[0m in \u001b[0;36m_method_wrapper\u001b[1;34m(self, *args, **kwargs)\u001b[0m\n\u001b[0;32m    455\u001b[0m     \u001b[0mself\u001b[0m\u001b[1;33m.\u001b[0m\u001b[0m_self_setattr_tracking\u001b[0m \u001b[1;33m=\u001b[0m \u001b[1;32mFalse\u001b[0m  \u001b[1;31m# pylint: disable=protected-access\u001b[0m\u001b[1;33m\u001b[0m\u001b[1;33m\u001b[0m\u001b[0m\n\u001b[0;32m    456\u001b[0m     \u001b[1;32mtry\u001b[0m\u001b[1;33m:\u001b[0m\u001b[1;33m\u001b[0m\u001b[1;33m\u001b[0m\u001b[0m\n\u001b[1;32m--> 457\u001b[1;33m       \u001b[0mresult\u001b[0m \u001b[1;33m=\u001b[0m \u001b[0mmethod\u001b[0m\u001b[1;33m(\u001b[0m\u001b[0mself\u001b[0m\u001b[1;33m,\u001b[0m \u001b[1;33m*\u001b[0m\u001b[0margs\u001b[0m\u001b[1;33m,\u001b[0m \u001b[1;33m**\u001b[0m\u001b[0mkwargs\u001b[0m\u001b[1;33m)\u001b[0m\u001b[1;33m\u001b[0m\u001b[1;33m\u001b[0m\u001b[0m\n\u001b[0m\u001b[0;32m    458\u001b[0m     \u001b[1;32mfinally\u001b[0m\u001b[1;33m:\u001b[0m\u001b[1;33m\u001b[0m\u001b[1;33m\u001b[0m\u001b[0m\n\u001b[0;32m    459\u001b[0m       \u001b[0mself\u001b[0m\u001b[1;33m.\u001b[0m\u001b[0m_self_setattr_tracking\u001b[0m \u001b[1;33m=\u001b[0m \u001b[0mprevious_value\u001b[0m  \u001b[1;31m# pylint: disable=protected-access\u001b[0m\u001b[1;33m\u001b[0m\u001b[1;33m\u001b[0m\u001b[0m\n",
      "\u001b[1;32mD:\\Anaconda\\lib\\site-packages\\tensorflow_core\\python\\keras\\engine\\sequential.py\u001b[0m in \u001b[0;36madd\u001b[1;34m(self, layer)\u001b[0m\n\u001b[0;32m    176\u001b[0m           \u001b[1;31m# and create the node connecting the current layer\u001b[0m\u001b[1;33m\u001b[0m\u001b[1;33m\u001b[0m\u001b[1;33m\u001b[0m\u001b[0m\n\u001b[0;32m    177\u001b[0m           \u001b[1;31m# to the input layer we just created.\u001b[0m\u001b[1;33m\u001b[0m\u001b[1;33m\u001b[0m\u001b[1;33m\u001b[0m\u001b[0m\n\u001b[1;32m--> 178\u001b[1;33m           \u001b[0mlayer\u001b[0m\u001b[1;33m(\u001b[0m\u001b[0mx\u001b[0m\u001b[1;33m)\u001b[0m\u001b[1;33m\u001b[0m\u001b[1;33m\u001b[0m\u001b[0m\n\u001b[0m\u001b[0;32m    179\u001b[0m           \u001b[0mset_inputs\u001b[0m \u001b[1;33m=\u001b[0m \u001b[1;32mTrue\u001b[0m\u001b[1;33m\u001b[0m\u001b[1;33m\u001b[0m\u001b[0m\n\u001b[0;32m    180\u001b[0m \u001b[1;33m\u001b[0m\u001b[0m\n",
      "\u001b[1;32mD:\\Anaconda\\lib\\site-packages\\tensorflow_core\\python\\keras\\engine\\base_layer.py\u001b[0m in \u001b[0;36m__call__\u001b[1;34m(self, inputs, *args, **kwargs)\u001b[0m\n\u001b[0;32m    810\u001b[0m         \u001b[1;31m# are casted, not before.\u001b[0m\u001b[1;33m\u001b[0m\u001b[1;33m\u001b[0m\u001b[1;33m\u001b[0m\u001b[0m\n\u001b[0;32m    811\u001b[0m         input_spec.assert_input_compatibility(self.input_spec, inputs,\n\u001b[1;32m--> 812\u001b[1;33m                                               self.name)\n\u001b[0m\u001b[0;32m    813\u001b[0m         \u001b[0mgraph\u001b[0m \u001b[1;33m=\u001b[0m \u001b[0mbackend\u001b[0m\u001b[1;33m.\u001b[0m\u001b[0mget_graph\u001b[0m\u001b[1;33m(\u001b[0m\u001b[1;33m)\u001b[0m\u001b[1;33m\u001b[0m\u001b[1;33m\u001b[0m\u001b[0m\n\u001b[0;32m    814\u001b[0m         \u001b[1;32mwith\u001b[0m \u001b[0mgraph\u001b[0m\u001b[1;33m.\u001b[0m\u001b[0mas_default\u001b[0m\u001b[1;33m(\u001b[0m\u001b[1;33m)\u001b[0m\u001b[1;33m,\u001b[0m \u001b[0mbackend\u001b[0m\u001b[1;33m.\u001b[0m\u001b[0mname_scope\u001b[0m\u001b[1;33m(\u001b[0m\u001b[0mself\u001b[0m\u001b[1;33m.\u001b[0m\u001b[0m_name_scope\u001b[0m\u001b[1;33m(\u001b[0m\u001b[1;33m)\u001b[0m\u001b[1;33m)\u001b[0m\u001b[1;33m:\u001b[0m\u001b[1;33m\u001b[0m\u001b[1;33m\u001b[0m\u001b[0m\n",
      "\u001b[1;32mD:\\Anaconda\\lib\\site-packages\\tensorflow_core\\python\\keras\\engine\\input_spec.py\u001b[0m in \u001b[0;36massert_input_compatibility\u001b[1;34m(input_spec, inputs, layer_name)\u001b[0m\n\u001b[0;32m    175\u001b[0m                          \u001b[1;34m'expected ndim='\u001b[0m \u001b[1;33m+\u001b[0m \u001b[0mstr\u001b[0m\u001b[1;33m(\u001b[0m\u001b[0mspec\u001b[0m\u001b[1;33m.\u001b[0m\u001b[0mndim\u001b[0m\u001b[1;33m)\u001b[0m \u001b[1;33m+\u001b[0m \u001b[1;34m', found ndim='\u001b[0m \u001b[1;33m+\u001b[0m\u001b[1;33m\u001b[0m\u001b[1;33m\u001b[0m\u001b[0m\n\u001b[0;32m    176\u001b[0m                          \u001b[0mstr\u001b[0m\u001b[1;33m(\u001b[0m\u001b[0mndim\u001b[0m\u001b[1;33m)\u001b[0m \u001b[1;33m+\u001b[0m \u001b[1;34m'. Full shape received: '\u001b[0m \u001b[1;33m+\u001b[0m\u001b[1;33m\u001b[0m\u001b[1;33m\u001b[0m\u001b[0m\n\u001b[1;32m--> 177\u001b[1;33m                          str(x.shape.as_list()))\n\u001b[0m\u001b[0;32m    178\u001b[0m     \u001b[1;32mif\u001b[0m \u001b[0mspec\u001b[0m\u001b[1;33m.\u001b[0m\u001b[0mmax_ndim\u001b[0m \u001b[1;32mis\u001b[0m \u001b[1;32mnot\u001b[0m \u001b[1;32mNone\u001b[0m\u001b[1;33m:\u001b[0m\u001b[1;33m\u001b[0m\u001b[1;33m\u001b[0m\u001b[0m\n\u001b[0;32m    179\u001b[0m       \u001b[0mndim\u001b[0m \u001b[1;33m=\u001b[0m \u001b[0mx\u001b[0m\u001b[1;33m.\u001b[0m\u001b[0mshape\u001b[0m\u001b[1;33m.\u001b[0m\u001b[0mndims\u001b[0m\u001b[1;33m\u001b[0m\u001b[1;33m\u001b[0m\u001b[0m\n",
      "\u001b[1;31mValueError\u001b[0m: Input 0 of layer conv2d_231 is incompatible with the layer: expected ndim=4, found ndim=3. Full shape received: [None, 159, 1]"
     ]
    }
   ],
   "source": [
    "model = keras.Sequential()\n",
    "model.add(layers.Conv2D(6,(3,3),input_shape = x_train.shape,activation='relu'))\n",
    "model.add(layers.MaxPooling2D(pool_size=(2,2),strides=2))\n",
    "model.add(Dropout(0.4))\n",
    "model.add(layers.Conv2D(32,(3,3),padding='valid',activation='relu'))\n",
    "model.add(layers.MaxPooling2D(pool_size=(2,2),strides=2,padding = 'valid'))\n",
    "model.add(Dropout(0.6))\n",
    "model.add(layers.Conv2D(64,(3,3),padding='valid',activation='relu'))\n",
    "model.add(Dropout(0.8))\n",
    "model.add(layers.Flatten())\n",
    "model.add(Dense(6,activation='softmax'))\n",
    "\n"
   ]
  },
  {
   "cell_type": "code",
   "execution_count": 174,
   "metadata": {},
   "outputs": [],
   "source": [
    "model.compile(loss='categorical_crossentropy', metrics=['accuracy'], optimizer='adam')\n"
   ]
  },
  {
   "cell_type": "code",
   "execution_count": 175,
   "metadata": {},
   "outputs": [
    {
     "name": "stderr",
     "output_type": "stream",
     "text": [
      "WARNING:tensorflow:Falling back from v2 loop because of error: Failed to find data adapter that can handle input: <class 'pandas.core.series.Series'>, <class 'NoneType'>\n"
     ]
    },
    {
     "ename": "ValueError",
     "evalue": "Error when checking input: expected conv2d_22_input to have 4 dimensions, but got array with shape (159, 1)",
     "output_type": "error",
     "traceback": [
      "\u001b[1;31m---------------------------------------------------------------------------\u001b[0m",
      "\u001b[1;31mValueError\u001b[0m                                Traceback (most recent call last)",
      "\u001b[1;32m<ipython-input-175-2d22fd055154>\u001b[0m in \u001b[0;36m<module>\u001b[1;34m\u001b[0m\n\u001b[1;32m----> 1\u001b[1;33m \u001b[0mmodel\u001b[0m\u001b[1;33m.\u001b[0m\u001b[0mfit\u001b[0m\u001b[1;33m(\u001b[0m\u001b[0mx_train\u001b[0m\u001b[1;33m,\u001b[0m \u001b[0my_train\u001b[0m\u001b[1;33m,\u001b[0m \u001b[0mbatch_size\u001b[0m\u001b[1;33m=\u001b[0m\u001b[1;36m128\u001b[0m\u001b[1;33m,\u001b[0m \u001b[0mepochs\u001b[0m\u001b[1;33m=\u001b[0m\u001b[1;36m10\u001b[0m\u001b[1;33m,\u001b[0m \u001b[0mvalidation_data\u001b[0m\u001b[1;33m=\u001b[0m\u001b[1;33m(\u001b[0m\u001b[0mx_test\u001b[0m\u001b[1;33m,\u001b[0m \u001b[0my_test\u001b[0m\u001b[1;33m)\u001b[0m\u001b[1;33m)\u001b[0m\u001b[1;33m\u001b[0m\u001b[1;33m\u001b[0m\u001b[0m\n\u001b[0m",
      "\u001b[1;32mD:\\Anaconda\\lib\\site-packages\\tensorflow_core\\python\\keras\\engine\\training.py\u001b[0m in \u001b[0;36mfit\u001b[1;34m(self, x, y, batch_size, epochs, verbose, callbacks, validation_split, validation_data, shuffle, class_weight, sample_weight, initial_epoch, steps_per_epoch, validation_steps, validation_freq, max_queue_size, workers, use_multiprocessing, **kwargs)\u001b[0m\n\u001b[0;32m    726\u001b[0m         \u001b[0mmax_queue_size\u001b[0m\u001b[1;33m=\u001b[0m\u001b[0mmax_queue_size\u001b[0m\u001b[1;33m,\u001b[0m\u001b[1;33m\u001b[0m\u001b[1;33m\u001b[0m\u001b[0m\n\u001b[0;32m    727\u001b[0m         \u001b[0mworkers\u001b[0m\u001b[1;33m=\u001b[0m\u001b[0mworkers\u001b[0m\u001b[1;33m,\u001b[0m\u001b[1;33m\u001b[0m\u001b[1;33m\u001b[0m\u001b[0m\n\u001b[1;32m--> 728\u001b[1;33m         use_multiprocessing=use_multiprocessing)\n\u001b[0m\u001b[0;32m    729\u001b[0m \u001b[1;33m\u001b[0m\u001b[0m\n\u001b[0;32m    730\u001b[0m   def evaluate(self,\n",
      "\u001b[1;32mD:\\Anaconda\\lib\\site-packages\\tensorflow_core\\python\\keras\\engine\\training_arrays.py\u001b[0m in \u001b[0;36mfit\u001b[1;34m(self, model, x, y, batch_size, epochs, verbose, callbacks, validation_split, validation_data, shuffle, class_weight, sample_weight, initial_epoch, steps_per_epoch, validation_steps, validation_freq, **kwargs)\u001b[0m\n\u001b[0;32m    640\u001b[0m         \u001b[0msteps\u001b[0m\u001b[1;33m=\u001b[0m\u001b[0msteps_per_epoch\u001b[0m\u001b[1;33m,\u001b[0m\u001b[1;33m\u001b[0m\u001b[1;33m\u001b[0m\u001b[0m\n\u001b[0;32m    641\u001b[0m         \u001b[0mvalidation_split\u001b[0m\u001b[1;33m=\u001b[0m\u001b[0mvalidation_split\u001b[0m\u001b[1;33m,\u001b[0m\u001b[1;33m\u001b[0m\u001b[1;33m\u001b[0m\u001b[0m\n\u001b[1;32m--> 642\u001b[1;33m         shuffle=shuffle)\n\u001b[0m\u001b[0;32m    643\u001b[0m \u001b[1;33m\u001b[0m\u001b[0m\n\u001b[0;32m    644\u001b[0m     \u001b[1;32mif\u001b[0m \u001b[0mvalidation_data\u001b[0m\u001b[1;33m:\u001b[0m\u001b[1;33m\u001b[0m\u001b[1;33m\u001b[0m\u001b[0m\n",
      "\u001b[1;32mD:\\Anaconda\\lib\\site-packages\\tensorflow_core\\python\\keras\\engine\\training.py\u001b[0m in \u001b[0;36m_standardize_user_data\u001b[1;34m(self, x, y, sample_weight, class_weight, batch_size, check_steps, steps_name, steps, validation_split, shuffle, extract_tensors_from_dataset)\u001b[0m\n\u001b[0;32m   2470\u001b[0m           \u001b[0mfeed_input_shapes\u001b[0m\u001b[1;33m,\u001b[0m\u001b[1;33m\u001b[0m\u001b[1;33m\u001b[0m\u001b[0m\n\u001b[0;32m   2471\u001b[0m           \u001b[0mcheck_batch_axis\u001b[0m\u001b[1;33m=\u001b[0m\u001b[1;32mFalse\u001b[0m\u001b[1;33m,\u001b[0m  \u001b[1;31m# Don't enforce the batch size.\u001b[0m\u001b[1;33m\u001b[0m\u001b[1;33m\u001b[0m\u001b[0m\n\u001b[1;32m-> 2472\u001b[1;33m           exception_prefix='input')\n\u001b[0m\u001b[0;32m   2473\u001b[0m \u001b[1;33m\u001b[0m\u001b[0m\n\u001b[0;32m   2474\u001b[0m     \u001b[1;31m# Get typespecs for the input data and sanitize it if necessary.\u001b[0m\u001b[1;33m\u001b[0m\u001b[1;33m\u001b[0m\u001b[1;33m\u001b[0m\u001b[0m\n",
      "\u001b[1;32mD:\\Anaconda\\lib\\site-packages\\tensorflow_core\\python\\keras\\engine\\training_utils.py\u001b[0m in \u001b[0;36mstandardize_input_data\u001b[1;34m(data, names, shapes, check_batch_axis, exception_prefix)\u001b[0m\n\u001b[0;32m    563\u001b[0m                            \u001b[1;34m': expected '\u001b[0m \u001b[1;33m+\u001b[0m \u001b[0mnames\u001b[0m\u001b[1;33m[\u001b[0m\u001b[0mi\u001b[0m\u001b[1;33m]\u001b[0m \u001b[1;33m+\u001b[0m \u001b[1;34m' to have '\u001b[0m \u001b[1;33m+\u001b[0m\u001b[1;33m\u001b[0m\u001b[1;33m\u001b[0m\u001b[0m\n\u001b[0;32m    564\u001b[0m                            \u001b[0mstr\u001b[0m\u001b[1;33m(\u001b[0m\u001b[0mlen\u001b[0m\u001b[1;33m(\u001b[0m\u001b[0mshape\u001b[0m\u001b[1;33m)\u001b[0m\u001b[1;33m)\u001b[0m \u001b[1;33m+\u001b[0m \u001b[1;34m' dimensions, but got array '\u001b[0m\u001b[1;33m\u001b[0m\u001b[1;33m\u001b[0m\u001b[0m\n\u001b[1;32m--> 565\u001b[1;33m                            'with shape ' + str(data_shape))\n\u001b[0m\u001b[0;32m    566\u001b[0m         \u001b[1;32mif\u001b[0m \u001b[1;32mnot\u001b[0m \u001b[0mcheck_batch_axis\u001b[0m\u001b[1;33m:\u001b[0m\u001b[1;33m\u001b[0m\u001b[1;33m\u001b[0m\u001b[0m\n\u001b[0;32m    567\u001b[0m           \u001b[0mdata_shape\u001b[0m \u001b[1;33m=\u001b[0m \u001b[0mdata_shape\u001b[0m\u001b[1;33m[\u001b[0m\u001b[1;36m1\u001b[0m\u001b[1;33m:\u001b[0m\u001b[1;33m]\u001b[0m\u001b[1;33m\u001b[0m\u001b[1;33m\u001b[0m\u001b[0m\n",
      "\u001b[1;31mValueError\u001b[0m: Error when checking input: expected conv2d_22_input to have 4 dimensions, but got array with shape (159, 1)"
     ]
    }
   ],
   "source": [
    "model.fit(x_train, y_train, batch_size=128, epochs=10, validation_data=(x_test, y_test))"
   ]
  },
  {
   "cell_type": "markdown",
   "metadata": {},
   "source": [
    "# Pre-trained model"
   ]
  },
  {
   "cell_type": "code",
   "execution_count": 173,
   "metadata": {},
   "outputs": [
    {
     "name": "stdout",
     "output_type": "stream",
     "text": [
      "Downloading data from https://github.com/fchollet/deep-learning-models/releases/download/v0.7/inception_resnet_v2_weights_tf_dim_ordering_tf_kernels_notop.h5\n",
      "219062272/219055592 [==============================] - 23s 0us/step\n"
     ]
    }
   ],
   "source": [
    "#Load the InceptionResNetV2 architecture with imagenet weights as base\n",
    "base_model = tf.keras.applications.InceptionResNetV2(\n",
    "                     include_top=False,\n",
    "                     weights='imagenet',\n",
    "                     input_shape=(3000,3000,3)\n",
    "                     )"
   ]
  },
  {
   "cell_type": "code",
   "execution_count": null,
   "metadata": {},
   "outputs": [],
   "source": [
    "base_model.trainable=False\n",
    "# For freezing the layer we make use of layer.trainable = False\n",
    "# means that its internal state will not change during training.\n",
    "# model's trainable weights will not be updated during fit(),\n",
    "# and also its state updates will not run.\n",
    "  \n",
    "model = tf.keras.Sequential([ \n",
    "        base_model,   \n",
    "        tf.keras.layers.BatchNormalization(renorm=True),\n",
    "        tf.keras.layers.GlobalAveragePooling2D(),\n",
    "        tf.keras.layers.Dense(512, activation='relu'),\n",
    "        tf.keras.layers.Dense(256, activation='relu'),\n",
    "        tf.keras.layers.Dropout(0.5),\n",
    "        tf.keras.layers.Dense(128, activation='relu'),\n",
    "        tf.keras.layers.Dense(120, activation='softmax')\n",
    "    ])\n",
    "\n",
    "model.compile(optimizer='Adam',loss='categorical_crossentropy',metrics=['accuracy'])\n",
    "model.fit(X_train,y_train)\n"
   ]
  }
 ],
 "metadata": {
  "kernelspec": {
   "display_name": "Python 3",
   "language": "python",
   "name": "python3"
  },
  "language_info": {
   "codemirror_mode": {
    "name": "ipython",
    "version": 3
   },
   "file_extension": ".py",
   "mimetype": "text/x-python",
   "name": "python",
   "nbconvert_exporter": "python",
   "pygments_lexer": "ipython3",
   "version": "3.7.6"
  }
 },
 "nbformat": 4,
 "nbformat_minor": 5
}
